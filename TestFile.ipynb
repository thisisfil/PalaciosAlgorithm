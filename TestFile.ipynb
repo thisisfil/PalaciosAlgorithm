{
 "cells": [
  {
   "cell_type": "code",
   "execution_count": 1,
   "metadata": {},
   "outputs": [],
   "source": [
    "#from PalaciosAlg import find_atoms\n",
    "from PalaciosAlg import *"
   ]
  },
  {
   "cell_type": "code",
   "execution_count": 2,
   "metadata": {},
   "outputs": [],
   "source": [
    "K0 = [[0,1,0,1,0,0],\n",
    "    [1,0,0,0,1,1], \n",
    "    [0,1,0,1,0,0],\n",
    "    [0,0,1,0,0,1],\n",
    "    [1,0,0,1,0,0],\n",
    "    [0,0,1,0,1,0]]\n",
    "\n",
    "\n",
    "K_con = [\n",
    "        [0,1,1,0], \n",
    "        [0,0,1,1],\n",
    "        [1,0,0,1],\n",
    "        [1,1,0,0]\n",
    "        ]\n",
    "\n",
    "K_Palacios = [[0,0,1,0,0,1],\n",
    "              [1,0,0,0,0,0],\n",
    "              [1,1,0,1,0,0],\n",
    "              [0,0,1,0,0,1],\n",
    "              [0,1,0,1,0,0],\n",
    "              [0,0,0,0,1,0]]\n",
    "\n",
    "\n",
    "K_exp = [\n",
    "        [0, 1, 0, 1, 0, 0],\n",
    "        [0, 0, 1, 0, 1, 0],\n",
    "        [0, 0, 0, 1, 0, 1],\n",
    "        [1, 0, 0, 0, 1, 0],\n",
    "        [0, 1, 0, 0, 0, 1],\n",
    "        [1, 0, 1, 0, 0, 0]\n",
    "        ]\n",
    "K_weather = [[1, 1, 0, 0], \n",
    "             [1, 1, 1, 1], \n",
    "             [1, 0, 1, 1], \n",
    "             [1, 0, 1, 1]]\n",
    "\n",
    "K_weather_2 = [[1, 1, 0, 0], \n",
    "             [1, 0, 1, 1], \n",
    "             [1, 0, 0, 1], \n",
    "             [1, 0, 1, 0]]"
   ]
  },
  {
   "cell_type": "code",
   "execution_count": 5,
   "metadata": {},
   "outputs": [],
   "source": [
    "Atome_playlist = find_atoms(K_Palacios)\n",
    "Klassen_playlist = find_classes(K_Palacios)\n",
    "Wetter_Klassen = find_classes(K_weather_2)\n",
    "Wetter_alles = find_atoms(K_weather_2)"
   ]
  },
  {
   "cell_type": "code",
   "execution_count": 6,
   "metadata": {},
   "outputs": [
    {
     "name": "stdout",
     "output_type": "stream",
     "text": [
      "[{2, 5}, {0, 1, 3}]\n",
      "[{(5, 5), (0, 2), (0, 5), (3, 2), (3, 5)}, {(2, 1), (4, 3), (2, 0), (2, 3), (1, 0), (4, 1)}]\n"
     ]
    }
   ],
   "source": [
    "print(Klassen_playlist)\n",
    "print(Atome_playlist)\n",
    "\n",
    "#print(len(Wetter_Klassen))\n",
    "#print(Wetter_Klassen)\n",
    "#print(Wetter_alles)"
   ]
  }
 ],
 "metadata": {
  "kernelspec": {
   "display_name": "base",
   "language": "python",
   "name": "python3"
  },
  "language_info": {
   "codemirror_mode": {
    "name": "ipython",
    "version": 3
   },
   "file_extension": ".py",
   "mimetype": "text/x-python",
   "name": "python",
   "nbconvert_exporter": "python",
   "pygments_lexer": "ipython3",
   "version": "3.9.10"
  }
 },
 "nbformat": 4,
 "nbformat_minor": 2
}
